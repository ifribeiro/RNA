{
 "cells": [
  {
   "attachments": {},
   "cell_type": "markdown",
   "metadata": {},
   "source": [
    "CNN para classificação de falhas\n",
    "\n",
    "Disciplina: Redes Neurais Artificiais\n",
    "\n",
    "Professor: Thomas Rauber\n",
    "\n",
    "Grupo:\n",
    "- Alan Carlos Pereira Pinto\n",
    "- Alexander de Oliveira da Silva\n",
    "- Iran Freitas Ribeiro\n",
    "\n",
    "--------------------------------------------------------\n"
   ]
  },
  {
   "attachments": {},
   "cell_type": "markdown",
   "metadata": {},
   "source": [
    "**Sumarização do modelo**\n",
    "\n",
    "Construímos um classificador CNN para, dado um conjunto de entrada, retornar de qual das 21 classes de falha ele pertence. A estrutura geral do modelo está descrita à seguir:\n",
    "\n",
    "``CNN -> MaxPooling2D -> Dropout -> CNN -> MaxPooling2D -> Dropout -> Dense -> Dropout -> Dense``\n",
    "\n",
    "Para esse problema, a camada Dense retorna um vetor com 21 valores de \"probabilidade\", de forma que a posição com a maior \"probabilidade\" representa o número da classe que o modelo classifica os conjunto de entrada.\n",
    "\n",
    "## Treinamento\n",
    "\n",
    "O modelo é treinado por, no máximo, 200 épocas, com um batch size de 256. Para reduzir o *overfitting*, fazemos com que a taxa de aprendizado sofra um decaimento ao longo do treinamento. Além disso, utilizamos um callback que para o treinamento quando o *loss* nos dados de validação não tem uma melhora após 10 épocas seguidas ([Eearly Stopping](https://keras.io/api/callbacks/early_stopping/)).\n",
    "\n",
    "A acurácia do modelo, em cada época de treinamento, é mostrada no final do notebook."
   ]
  },
  {
   "cell_type": "code",
   "execution_count": 4,
   "metadata": {},
   "outputs": [],
   "source": [
    "import pandas as pd\n",
    "import numpy as np\n",
    "import glob\n",
    "import tensorflow as tf\n",
    "from tensorflow.keras import models, layers, losses, regularizers, callbacks, constraints, optimizers\n",
    "from sklearn.metrics import accuracy_score\n",
    "import matplotlib.pyplot as plt"
   ]
  },
  {
   "cell_type": "code",
   "execution_count": 5,
   "metadata": {},
   "outputs": [],
   "source": [
    "def normalize(d):\n",
    "    media_treino = d.mean(axis=0)\n",
    "    std_treino = d.std(axis=0, ddof=0)\n",
    "    d = d - media_treino\n",
    "    d = d/std_treino\n",
    "    return d\n",
    "    \n",
    "def unir_df_treino(cols):\n",
    "    df = pd.DataFrame()\n",
    "    for i in range(22):\n",
    "        fnm = ''+str(i).zfill(2)\n",
    "        dfalha_i = pd.read_csv('data/d{}.dat'.format(fnm), delim_whitespace=True, header=None)\n",
    "        dfalha_i['falha'] = np.ones(len(dfalha_i), dtype='int')*i # 1\n",
    "        df = pd.concat([df, dfalha_i])\n",
    "    X = df[cols].values\n",
    "    labels_treino = df['falha'].values\n",
    "    X = normalize(X)\n",
    "    X = X.reshape(len(X), 13, 2, 2)\n",
    "    labels_treino = labels_treino.reshape(len(labels_treino), 1)\n",
    "    return X, labels_treino\n",
    "\n",
    "def get_df_teste(cols):\n",
    "    df = pd.DataFrame()\n",
    "    for i in range(22):\n",
    "        fnm = ''+str(i).zfill(2)\n",
    "        dfalha = pd.read_csv('data/d{}_te.dat'.format(fnm), delim_whitespace=True, header=None)\n",
    "        dfalha['falha'] = np.ones(len(dfalha), dtype='int')*i\n",
    "        # primeiros 160 são dados de normalidade\n",
    "        dfalha.loc[np.arange(160), 'falha'] = 0\n",
    "        df = pd.concat([df, dfalha])\n",
    "    X = df[cols].values\n",
    "    labels = df['falha'].values\n",
    "    X = normalize(X)\n",
    "    X = X.reshape(len(X), 13, 2, 2)\n",
    "    labels = labels.reshape(len(labels), 1)\n",
    "    return X, labels"
   ]
  },
  {
   "cell_type": "code",
   "execution_count": 11,
   "metadata": {},
   "outputs": [],
   "source": [
    "def define_model(dropouts=[], lnormalize=False, r=1, thirdl=False, n_steps=10, nouts=2):\n",
    "    \"\"\"\n",
    "    Retorna um modelo CNN\n",
    "\n",
    "    Params:\n",
    "        - dropout: lista de camadas onde o dropout será aplicado\n",
    "        - lnormalize: indica se normalização l2 será aplicado à camada\n",
    "        - r: número utilizado para reduzir o número de neurônios em cada camada\n",
    "        - thirdl: indica se o modelo possui uma camada CNN adicional no final. O modelo mais simples possui apenas 2 camadas\n",
    "        - n_steps: controla TODO: REMOVER\n",
    "    \"\"\"\n",
    "\n",
    "    m  = models.Sequential()\n",
    "    if lnormalize:\n",
    "        m.add(layers.Conv2D(int(64/r), (2, 2), activation='relu', input_shape=(13, 2, 2), name='conv1', kernel_regularizer=regularizers.l2(0.01)))\n",
    "    else:\n",
    "        m.add(layers.Conv2D(int(64/r), (2, 2), activation='relu', input_shape=(13, 2, 2), name='conv1'))\n",
    "    m.add(layers.MaxPooling2D((2, 1), name='maxpooling1'))\n",
    "    if dropouts[0]:\n",
    "        m.add(layers.Dropout(0.4))\n",
    "    if lnormalize:\n",
    "        m.add(layers.Conv2D(int(64/r), (2, 1), activation='relu', name='conv2', \n",
    "            kernel_regularizer=regularizers.l2(0.01)))\n",
    "    else:\n",
    "        m.add(layers.Conv2D(int(64/r), (2, 1), activation='relu', name='conv2'))    \n",
    "    if thirdl:        \n",
    "        m.add(layers.MaxPooling2D((2, 1), name='maxpooling2'))\n",
    "        if dropouts[1]:\n",
    "            m.add(layers.Dropout(0.4))\n",
    "        if lnormalize:\n",
    "            m.add(layers.Conv2D(int(64/r), (2, 1), activation='relu', name='conv3', \n",
    "                kernel_regularizer=regularizers.l2(0.01)))\n",
    "        else:\n",
    "            m.add(layers.Conv2D(int(64/r), (2, 1), activation='relu', name='conv3'))\n",
    "    m.add(layers.Flatten())\n",
    "    m.add(layers.Dense(int(32/r), activation='relu'))\n",
    "    if thirdl:\n",
    "        if dropouts[2]:\n",
    "            m.add(layers.Dropout(0.2))\n",
    "    # 2 classes: normal (0) e falha (XX)\n",
    "    m.add(layers.Dense(nouts, name=\"previsoes\"))\n",
    "    opt = optimizers.Adam(learning_rate=1e-4)\n",
    "    #opt = optimizers.SGD()\n",
    "    m.compile(optimizer=opt, loss=losses.SparseCategoricalCrossentropy(from_logits=True), metrics=['accuracy'])\n",
    "    return m\n",
    "\n",
    "def plot_acc_loss(title, hist):\n",
    "    \"\"\"\n",
    "    Plota a accurácia (treino e validação) e perda (treino e validação) do modelo ao longo das épocas    \n",
    "    \"\"\"\n",
    "    fig, ax = plt.subplots(ncols=2, figsize=(8,3))\n",
    "    ax[0].plot (hist.history['accuracy'], label='acc')\n",
    "    ax[0].plot (hist.history['val_accuracy'], label='val_acc')\n",
    "    ax[0].legend()\n",
    "    ax[1].plot (hist.history['loss'], label='loss')\n",
    "    ax[1].plot (hist.history['val_loss'], label='val_loss')\n",
    "    ax[1].legend()\n",
    "    fig.suptitle(title)\n",
    "    plt.tight_layout()\n",
    "    plt.show()\n",
    "\n",
    "def step_decay_schedule(initial_lr=1e-3, decay_factor=0.75, step_size=10):\n",
    "    '''\n",
    "    Wrapper function to create a LearningRateScheduler with step decay schedule.\n",
    "    '''\n",
    "    def schedule(epoch):\n",
    "        return initial_lr * (decay_factor ** np.floor(epoch/step_size))\n",
    "    \n",
    "    return callbacks.LearningRateScheduler(schedule)"
   ]
  },
  {
   "cell_type": "code",
   "execution_count": 6,
   "metadata": {},
   "outputs": [],
   "source": [
    "# seleciona os dados de treino\n",
    "colunas = np.arange(52)\n",
    "X_treino, labels_treino = unir_df_treino(colunas)\n",
    "X_teste, labels_teste = get_df_teste(colunas)"
   ]
  },
  {
   "cell_type": "code",
   "execution_count": 9,
   "metadata": {},
   "outputs": [],
   "source": [
    "cnn_falhas = define_model(dropouts=[1,1,1],r=0.1, lnormalize=False, thirdl=1, nouts=22)"
   ]
  },
  {
   "cell_type": "code",
   "execution_count": 12,
   "metadata": {},
   "outputs": [],
   "source": [
    "bs = 256\n",
    "n_steps = X_treino.shape[0]//bs\n",
    "lr_sched = step_decay_schedule(initial_lr=1e-4, decay_factor=0.75, step_size=n_steps)"
   ]
  },
  {
   "cell_type": "code",
   "execution_count": 13,
   "metadata": {},
   "outputs": [
    {
     "name": "stdout",
     "output_type": "stream",
     "text": [
      "Epoch 1/200\n",
      "42/42 [==============================] - 8s 182ms/step - loss: 2.9447 - accuracy: 0.0965 - val_loss: 2.8120 - val_accuracy: 0.1760 - lr: 1.0000e-04\n",
      "Epoch 2/200\n",
      "42/42 [==============================] - 7s 178ms/step - loss: 2.6572 - accuracy: 0.2314 - val_loss: 2.5768 - val_accuracy: 0.2188 - lr: 1.0000e-04\n",
      "Epoch 3/200\n",
      "42/42 [==============================] - 7s 178ms/step - loss: 2.3929 - accuracy: 0.2760 - val_loss: 2.3917 - val_accuracy: 0.2517 - lr: 1.0000e-04\n",
      "Epoch 4/200\n",
      "42/42 [==============================] - 8s 185ms/step - loss: 2.1952 - accuracy: 0.3253 - val_loss: 2.2302 - val_accuracy: 0.2903 - lr: 1.0000e-04\n",
      "Epoch 5/200\n",
      "42/42 [==============================] - 8s 189ms/step - loss: 2.0776 - accuracy: 0.3579 - val_loss: 2.1618 - val_accuracy: 0.3050 - lr: 1.0000e-04\n",
      "Epoch 6/200\n",
      "42/42 [==============================] - 7s 179ms/step - loss: 1.9896 - accuracy: 0.3756 - val_loss: 2.1052 - val_accuracy: 0.3186 - lr: 1.0000e-04\n",
      "Epoch 7/200\n",
      "42/42 [==============================] - 9s 212ms/step - loss: 1.9266 - accuracy: 0.3990 - val_loss: 2.0898 - val_accuracy: 0.3155 - lr: 1.0000e-04\n",
      "Epoch 8/200\n",
      "42/42 [==============================] - 8s 186ms/step - loss: 1.8708 - accuracy: 0.4074 - val_loss: 2.0496 - val_accuracy: 0.3210 - lr: 1.0000e-04\n",
      "Epoch 9/200\n",
      "42/42 [==============================] - 8s 183ms/step - loss: 1.8376 - accuracy: 0.4197 - val_loss: 2.0134 - val_accuracy: 0.3314 - lr: 1.0000e-04\n",
      "Epoch 10/200\n",
      "42/42 [==============================] - 8s 181ms/step - loss: 1.7952 - accuracy: 0.4336 - val_loss: 2.0005 - val_accuracy: 0.3371 - lr: 1.0000e-04\n",
      "Epoch 11/200\n",
      "42/42 [==============================] - 8s 184ms/step - loss: 1.7614 - accuracy: 0.4411 - val_loss: 1.9784 - val_accuracy: 0.3457 - lr: 1.0000e-04\n",
      "Epoch 12/200\n",
      "42/42 [==============================] - 8s 185ms/step - loss: 1.7292 - accuracy: 0.4507 - val_loss: 1.9672 - val_accuracy: 0.3597 - lr: 1.0000e-04\n",
      "Epoch 13/200\n",
      "42/42 [==============================] - 8s 187ms/step - loss: 1.7118 - accuracy: 0.4570 - val_loss: 1.9680 - val_accuracy: 0.3542 - lr: 1.0000e-04\n",
      "Epoch 14/200\n",
      "42/42 [==============================] - 8s 184ms/step - loss: 1.6802 - accuracy: 0.4647 - val_loss: 1.9734 - val_accuracy: 0.3468 - lr: 1.0000e-04\n",
      "Epoch 15/200\n",
      "42/42 [==============================] - 8s 188ms/step - loss: 1.6516 - accuracy: 0.4750 - val_loss: 1.9435 - val_accuracy: 0.3755 - lr: 1.0000e-04\n",
      "Epoch 16/200\n",
      "42/42 [==============================] - 8s 187ms/step - loss: 1.6409 - accuracy: 0.4807 - val_loss: 1.9456 - val_accuracy: 0.3642 - lr: 1.0000e-04\n",
      "Epoch 17/200\n",
      "42/42 [==============================] - 8s 181ms/step - loss: 1.6162 - accuracy: 0.4907 - val_loss: 1.9510 - val_accuracy: 0.3718 - lr: 1.0000e-04\n",
      "Epoch 18/200\n",
      "42/42 [==============================] - 7s 178ms/step - loss: 1.6065 - accuracy: 0.4931 - val_loss: 1.9383 - val_accuracy: 0.3715 - lr: 1.0000e-04\n",
      "Epoch 19/200\n",
      "42/42 [==============================] - 8s 190ms/step - loss: 1.5762 - accuracy: 0.4972 - val_loss: 1.9507 - val_accuracy: 0.3644 - lr: 1.0000e-04\n",
      "Epoch 20/200\n",
      "42/42 [==============================] - 9s 209ms/step - loss: 1.5582 - accuracy: 0.5018 - val_loss: 1.9145 - val_accuracy: 0.3990 - lr: 1.0000e-04\n",
      "Epoch 21/200\n",
      "42/42 [==============================] - 9s 206ms/step - loss: 1.5425 - accuracy: 0.5109 - val_loss: 1.9503 - val_accuracy: 0.3762 - lr: 1.0000e-04\n",
      "Epoch 22/200\n",
      "42/42 [==============================] - 8s 203ms/step - loss: 1.5344 - accuracy: 0.5080 - val_loss: 1.9412 - val_accuracy: 0.3742 - lr: 1.0000e-04\n",
      "Epoch 23/200\n",
      "42/42 [==============================] - 9s 210ms/step - loss: 1.5069 - accuracy: 0.5181 - val_loss: 1.9535 - val_accuracy: 0.3830 - lr: 1.0000e-04\n",
      "Epoch 24/200\n",
      "42/42 [==============================] - 9s 211ms/step - loss: 1.5038 - accuracy: 0.5254 - val_loss: 1.9430 - val_accuracy: 0.3796 - lr: 1.0000e-04\n",
      "Epoch 25/200\n",
      "42/42 [==============================] - 9s 205ms/step - loss: 1.4859 - accuracy: 0.5222 - val_loss: 1.9663 - val_accuracy: 0.3815 - lr: 1.0000e-04\n",
      "Epoch 26/200\n",
      "42/42 [==============================] - 8s 196ms/step - loss: 1.4819 - accuracy: 0.5278 - val_loss: 1.9358 - val_accuracy: 0.3920 - lr: 1.0000e-04\n",
      "Epoch 27/200\n",
      "42/42 [==============================] - 8s 196ms/step - loss: 1.4730 - accuracy: 0.5279 - val_loss: 1.9627 - val_accuracy: 0.3962 - lr: 1.0000e-04\n",
      "Epoch 28/200\n",
      "42/42 [==============================] - 8s 202ms/step - loss: 1.4461 - accuracy: 0.5386 - val_loss: 1.9703 - val_accuracy: 0.3811 - lr: 1.0000e-04\n",
      "Epoch 29/200\n",
      "42/42 [==============================] - 8s 200ms/step - loss: 1.4393 - accuracy: 0.5409 - val_loss: 2.0004 - val_accuracy: 0.3736 - lr: 1.0000e-04\n",
      "Epoch 30/200\n",
      "42/42 [==============================] - 8s 202ms/step - loss: 1.4298 - accuracy: 0.5355 - val_loss: 1.9813 - val_accuracy: 0.3828 - lr: 1.0000e-04\n"
     ]
    }
   ],
   "source": [
    "es = callbacks.EarlyStopping(monitor='val_loss', patience=10)\n",
    "hist = cnn_falhas.fit(X_treino, labels_treino, verbose=1, batch_size=bs, epochs=200,\n",
    "                     validation_data=(X_teste, labels_teste), callbacks=[es, lr_sched])"
   ]
  },
  {
   "cell_type": "code",
   "execution_count": 14,
   "metadata": {},
   "outputs": [
    {
     "data": {
      "image/png": "[encoded data removed]",
      "text/plain": [
       "<Figure size 576x216 with 2 Axes>"
      ]
     },
     "metadata": {
      "needs_background": "light"
     },
     "output_type": "display_data"
    }
   ],
   "source": [
    "plot_acc_loss(\"Classificador de falhas\", hist)"
   ]
  },
  {
   "cell_type": "code",
   "execution_count": 15,
   "metadata": {},
   "outputs": [],
   "source": [
    "cnn_falhas.save(\"modelos/classificador_falhas.h5\")"
   ]
  },
  {
   "cell_type": "code",
   "execution_count": null,
   "metadata": {},
   "outputs": [],
   "source": []
  }
 ],
 "metadata": {
  "kernelspec": {
   "display_name": "gans_trajsp3",
   "language": "python",
   "name": "python3"
  },
  "language_info": {
   "codemirror_mode": {
    "name": "ipython",
    "version": 3
   },
   "file_extension": ".py",
   "mimetype": "text/x-python",
   "name": "python",
   "nbconvert_exporter": "python",
   "pygments_lexer": "ipython3",
   "version": "3.7.3"
  },
  "orig_nbformat": 4,
  "vscode": {
   "interpreter": {
    "hash": "72fba674bb5c41e906a02e56863160eeb44778396691dee4e92ebdc1318766f3"
   }
  }
 },
 "nbformat": 4,
 "nbformat_minor": 2
}
